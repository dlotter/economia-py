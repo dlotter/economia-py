{
 "cells": [
  {
   "cell_type": "markdown",
   "metadata": {},
   "source": [
    "## Lista 1\n",
    "### Ex 1"
   ]
  },
  {
   "cell_type": "code",
   "execution_count": 1,
   "metadata": {},
   "outputs": [],
   "source": [
    "import sympy\n",
    "import numpy as np\n",
    "import matplotlib.pyplot\n",
    "%matplotlib inline "
   ]
  },
  {
   "cell_type": "code",
   "execution_count": 2,
   "metadata": {},
   "outputs": [],
   "source": [
    "def h(x):\n",
    "    return sympy.log(x)\n",
    "\n",
    "o1 = 1\n",
    "o2 = 1\n",
    "\n",
    "alfa = 3/4\n",
    "beta = 1/4\n",
    "\n",
    "x1a, x2a, x1b, x2b = sympy.symbols('x1a x2a x1b x2b')\n",
    "sympy.init_printing(use_unicode=True)"
   ]
  },
  {
   "cell_type": "code",
   "execution_count": 3,
   "metadata": {},
   "outputs": [],
   "source": [
    "Ua = alfa*sympy.log(x1a) + (1-alfa)*sympy.log(x2a)\n",
    "Ub = beta*sympy.log(o1-x1a) + (1-beta)*sympy.log(o2-x2a)"
   ]
  },
  {
   "cell_type": "code",
   "execution_count": 4,
   "metadata": {},
   "outputs": [
    {
     "name": "stdout",
     "output_type": "stream",
     "text": [
      "-0.25/(1 - x1a)\n",
      "-0.75/(1 - x2a)\n"
     ]
    }
   ],
   "source": [
    "print(Ub.diff(x1a))\n",
    "print(Ub.diff(x2a))"
   ]
  },
  {
   "cell_type": "code",
   "execution_count": 5,
   "metadata": {},
   "outputs": [
    {
     "name": "stdout",
     "output_type": "stream",
     "text": [
      "3.0*x2a/x1a\n",
      "-0.25*(1.33333333333333*x2a - 1.33333333333333)/(1 - x1a)\n"
     ]
    }
   ],
   "source": [
    "TMSa = Ua.diff(x1a)/Ua.diff(x2a)\n",
    "TMSb = Ub.diff(x1a)/Ub.diff(x2a)\n",
    "print(TMSa)\n",
    "print(TMSb)\n"
   ]
  },
  {
   "cell_type": "code",
   "execution_count": 6,
   "metadata": {
    "scrolled": true
   },
   "outputs": [
    {
     "data": {
      "image/png": "[encoded data removed]",
      "text/plain": [
       "<Figure size 432x288 with 1 Axes>"
      ]
     },
     "metadata": {
      "needs_background": "light"
     },
     "output_type": "display_data"
    },
    {
     "data": {
      "text/plain": [
       "<sympy.plotting.plot.Plot at 0x24ce613cb38>"
      ]
     },
     "execution_count": 6,
     "metadata": {},
     "output_type": "execute_result"
    }
   ],
   "source": [
    "sympy.var('x1a x2a')\n",
    "sympy.plot_implicit(TMSa - TMSb, x_var=(x1a, 0, 1), y_var=(x2a,0,1))"
   ]
  },
  {
   "cell_type": "markdown",
   "metadata": {},
   "source": [
    "### Ex 3\n",
    "#### a)"
   ]
  },
  {
   "cell_type": "code",
   "execution_count": 7,
   "metadata": {},
   "outputs": [],
   "source": [
    "# Dotações Iniciais\n",
    "oa = (3, 4, 2)\n",
    "ob = (1, 5, 3)"
   ]
  },
  {
   "cell_type": "code",
   "execution_count": 8,
   "metadata": {},
   "outputs": [],
   "source": [
    "# Preços\n",
    "p1, p2, p3 = sympy.symbols('p1 p2 p3')"
   ]
  },
  {
   "cell_type": "code",
   "execution_count": 9,
   "metadata": {},
   "outputs": [],
   "source": [
    "# Variáveis de Escolha\n",
    "x1a, x2a, x3a, x1b, x2b, x3b = sympy.symbols('x1a x2a x3a x1b x2b x3b')\n",
    "sympy.init_printing(use_unicode=True)"
   ]
  },
  {
   "cell_type": "code",
   "execution_count": 10,
   "metadata": {},
   "outputs": [],
   "source": [
    "# Funções Utilidade\n",
    "Ua = (1/4)*sympy.log(x1a)+(1/4)*sympy.log(x2a)+(1/2)*sympy.log(x3a)\n",
    "Ub = (1/2)*sympy.log(x1b)+(1/3)*sympy.log(x2b)+(1/6)*sympy.log(x3b)"
   ]
  },
  {
   "cell_type": "code",
   "execution_count": 11,
   "metadata": {},
   "outputs": [
    {
     "name": "stdout",
     "output_type": "stream",
     "text": [
      "4*p2 + 2*p3 + 3\n",
      "5*p2 + 3*p3 + 1\n"
     ]
    }
   ],
   "source": [
    "# Rendas\n",
    "ma = oa[0]*1 + oa[1]*p2 + oa[2]*p3\n",
    "mb = ob[0]*1 + ob[1]*p2 + ob[2]*p3\n",
    "print(ma)\n",
    "print(mb)"
   ]
  },
  {
   "cell_type": "code",
   "execution_count": 12,
   "metadata": {},
   "outputs": [
    {
     "name": "stdout",
     "output_type": "stream",
     "text": [
      "1.0*p2 + 0.5*p3 + 0.75\n",
      "0.25*(4*p2 + 2*p3 + 3)/p2\n",
      "0.5*(4*p2 + 2*p3 + 3)/p3\n",
      "2.5*p2 + 1.5*p3 + 0.5\n",
      "0.333333333333333*(5*p2 + 3*p3 + 1)/p2\n",
      "0.166666666666667*(5*p2 + 3*p3 + 1)/p3\n"
     ]
    }
   ],
   "source": [
    "# Demandas Marshalianas\n",
    "x1a_eq = (1/4)*(1/1)*ma\n",
    "print(x1a_eq)\n",
    "x2a_eq = (1/4)*(1/p2)*ma\n",
    "print(x2a_eq)\n",
    "x3a_eq = (1/2)*(1/p3)*ma\n",
    "print(x3a_eq)\n",
    "x1b_eq = (1/2)*(1/1)*mb\n",
    "print(x1b_eq)\n",
    "x2b_eq = (1/3)*(1/p2)*mb\n",
    "print(x2b_eq)\n",
    "x3b_eq = (1/6)*(1/p3)*mb\n",
    "print(x3b_eq)"
   ]
  },
  {
   "cell_type": "code",
   "execution_count": 13,
   "metadata": {
    "scrolled": true
   },
   "outputs": [
    {
     "data": {
      "image/png": "[encoded data removed]",
      "text/latex": [
       "$\\displaystyle p_{1} \\left(3.5 p_{2} + 2.0 p_{3} - 2.75\\right) + p_{2} \\left(-9 + \\frac{0.25 \\left(4 p_{2} + 2 p_{3} + 3\\right)}{p_{2}} + \\frac{0.333333333333333 \\left(5 p_{2} + 3 p_{3} + 1\\right)}{p_{2}}\\right) + p_{3} \\left(-5 + \\frac{0.5 \\left(4 p_{2} + 2 p_{3} + 3\\right)}{p_{3}} + \\frac{0.166666666666667 \\left(5 p_{2} + 3 p_{3} + 1\\right)}{p_{3}}\\right)$"
      ],
      "text/plain": [
       "                                 ⎛     0.25⋅(4⋅p₂ + 2⋅p₃ + 3)   0.333333333333\n",
       "p₁⋅(3.5⋅p₂ + 2.0⋅p₃ - 2.75) + p₂⋅⎜-9 + ────────────────────── + ──────────────\n",
       "                                 ⎝               p₂                           \n",
       "\n",
       "333⋅(5⋅p₂ + 3⋅p₃ + 1)⎞      ⎛     0.5⋅(4⋅p₂ + 2⋅p₃ + 3)   0.166666666666667⋅(5\n",
       "─────────────────────⎟ + p₃⋅⎜-5 + ───────────────────── + ────────────────────\n",
       "   p₂                ⎠      ⎝               p₃                             p₃ \n",
       "\n",
       "⋅p₂ + 3⋅p₃ + 1)⎞\n",
       "───────────────⎟\n",
       "               ⎠"
      ]
     },
     "execution_count": 13,
     "metadata": {},
     "output_type": "execute_result"
    }
   ],
   "source": [
    "# Lei de Walras - Depois vou substituir pelo vetor de preços de eq\n",
    "walras = p1*(x1a_eq+x1b_eq-oa[0]-ob[0])+p2*(x2a_eq+x2b_eq-oa[1]-ob[1])+p3*(x3a_eq+x3b_eq-oa[2]-ob[2])\n",
    "walras"
   ]
  },
  {
   "cell_type": "markdown",
   "metadata": {},
   "source": [
    "#### b)"
   ]
  },
  {
   "cell_type": "code",
   "execution_count": 14,
   "metadata": {},
   "outputs": [
    {
     "name": "stdout",
     "output_type": "stream",
     "text": [
      "{p2: 0.785714285714286 - 0.571428571428571*p3}\n",
      "{p2: 0.236842105263158*p3 + 0.171052631578947}\n",
      "{p2: 1.23529411764706*p3 - 0.588235294117647}\n"
     ]
    }
   ],
   "source": [
    "# Market Clearing\n",
    "sol1 = sympy.solvers.solve(x1a_eq + x1b_eq - oa[0] - ob[0], dict = True)\n",
    "print(sol1[0])\n",
    "sol2 = sympy.solvers.solve(x2a_eq + x2b_eq - oa[1] - ob[1], dict = True)\n",
    "print(sol2[0])\n",
    "sol3 = sympy.solvers.solve(x3a_eq + x3b_eq - oa[2] - ob[2], dict = True)\n",
    "print(sol3[0])"
   ]
  },
  {
   "cell_type": "code",
   "execution_count": 15,
   "metadata": {},
   "outputs": [
    {
     "name": "stdout",
     "output_type": "stream",
     "text": [
      "{p3: 0.760465116279070, p2: 0.351162790697674}\n"
     ]
    }
   ],
   "source": [
    "sol = sympy.solvers.solve((x1a_eq + x1b_eq - oa[0] - ob[0],\n",
    "                     x2a_eq + x2b_eq - oa[1] - ob[1],\n",
    "                     x3a_eq + x3b_eq - oa[2] - ob[2]), p2, p3)\n",
    "print(sol)"
   ]
  },
  {
   "cell_type": "code",
   "execution_count": 16,
   "metadata": {},
   "outputs": [
    {
     "name": "stdout",
     "output_type": "stream",
     "text": [
      "1.48\n",
      "4.22\n",
      "3.90\n",
      "2.52\n",
      "4.78\n",
      "1.10\n"
     ]
    }
   ],
   "source": [
    "# Substituindo nas Demandas Marshalianas\n",
    "print(f'{x1a_eq.evalf(subs=sol):.2f}')\n",
    "print(f'{x2a_eq.evalf(subs=sol):.2f}')\n",
    "print(f'{x3a_eq.evalf(subs=sol):.2f}')\n",
    "print(f'{x1b_eq.evalf(subs=sol):.2f}')\n",
    "print(f'{x2b_eq.evalf(subs=sol):.2f}')\n",
    "print(f'{x3b_eq.evalf(subs=sol):.2f}')"
   ]
  },
  {
   "cell_type": "code",
   "execution_count": 17,
   "metadata": {},
   "outputs": [
    {
     "name": "stdout",
     "output_type": "stream",
     "text": [
      "{p3: 0.760465116279070, p2: 0.351162790697674, p1: 1}\n",
      "-0.0000000000\n"
     ]
    }
   ],
   "source": [
    "# Checando lei de Walras\n",
    "sol.update([(p1,1)])\n",
    "print(sol)\n",
    "print(f'{walras.evalf(subs=sol):.10f}')"
   ]
  },
  {
   "cell_type": "markdown",
   "metadata": {},
   "source": [
    "### Ex 4\n",
    "\n",
    "#### a)\n",
    "\n",
    "\n"
   ]
  }
 ],
 "metadata": {
  "kernelspec": {
   "display_name": "Python 3",
   "language": "python",
   "name": "python3"
  },
  "language_info": {
   "codemirror_mode": {
    "name": "ipython",
    "version": 3
   },
   "file_extension": ".py",
   "mimetype": "text/x-python",
   "name": "python",
   "nbconvert_exporter": "python",
   "pygments_lexer": "ipython3",
   "version": "3.7.3"
  }
 },
 "nbformat": 4,
 "nbformat_minor": 2
}
