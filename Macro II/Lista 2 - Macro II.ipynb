{
 "cells": [
  {
   "cell_type": "markdown",
   "metadata": {},
   "source": [
    "# Lista 2\n"
   ]
  },
  {
   "cell_type": "code",
   "execution_count": 1,
   "metadata": {},
   "outputs": [],
   "source": [
    "import sympy"
   ]
  },
  {
   "cell_type": "code",
   "execution_count": 2,
   "metadata": {},
   "outputs": [],
   "source": [
    "Cy, Ty, Xy, Ir, Ly, Lr, Fr = sympy.symbols('Cy Ty Xy Ir Ly Lr Fr')"
   ]
  },
  {
   "cell_type": "code",
   "execution_count": 3,
   "metadata": {},
   "outputs": [],
   "source": [
    "A = sympy.Matrix([[1-Cy*(1-Ty)-Xy, -Ir, 0], [-Ly, -Lr, 0], [-Xy, -Fr, 1]])"
   ]
  },
  {
   "cell_type": "code",
   "execution_count": 4,
   "metadata": {},
   "outputs": [
    {
     "data": {
      "text/latex": [
       "$\\displaystyle - Ir Ly - Lr \\left(- Cy \\left(1 - Ty\\right) - Xy + 1\\right)$"
      ],
      "text/plain": [
       "-Ir*Ly - Lr*(-Cy*(1 - Ty) - Xy + 1)"
      ]
     },
     "execution_count": 4,
     "metadata": {},
     "output_type": "execute_result"
    }
   ],
   "source": [
    "A.det()"
   ]
  },
  {
   "cell_type": "code",
   "execution_count": 5,
   "metadata": {},
   "outputs": [],
   "source": [
    "AB = sympy.Matrix([[1-Cy*(1-Ty)-Xy, -Ir, 1], [-Ly, -Lr, 0], [-Xy, -Fr, 0]])"
   ]
  },
  {
   "cell_type": "code",
   "execution_count": 6,
   "metadata": {},
   "outputs": [
    {
     "data": {
      "text/latex": [
       "$\\displaystyle Fr Ly - Lr Xy$"
      ],
      "text/plain": [
       "Fr*Ly - Lr*Xy"
      ]
     },
     "execution_count": 6,
     "metadata": {},
     "output_type": "execute_result"
    }
   ],
   "source": [
    "AB.det()"
   ]
  },
  {
   "cell_type": "markdown",
   "metadata": {},
   "source": [
    "## Ex 2"
   ]
  },
  {
   "cell_type": "markdown",
   "metadata": {},
   "source": [
    "### Item 0 $ \\frac{\\partial B}{\\partial G} $"
   ]
  },
  {
   "cell_type": "code",
   "execution_count": 7,
   "metadata": {},
   "outputs": [
    {
     "data": {
      "text/latex": [
       "$\\displaystyle \\frac{Fr Ly - Lr Xy}{- Ir Ly - Lr \\left(- Cy \\left(1 - Ty\\right) - Xy + 1\\right)}$"
      ],
      "text/plain": [
       "(Fr*Ly - Lr*Xy)/(-Ir*Ly - Lr*(-Cy*(1 - Ty) - Xy + 1))"
      ]
     },
     "execution_count": 7,
     "metadata": {},
     "output_type": "execute_result"
    }
   ],
   "source": [
    "AB.det()/A.det()"
   ]
  },
  {
   "cell_type": "markdown",
   "metadata": {},
   "source": [
    "### Item 1 $ \\frac{\\partial M}{\\partial G} $"
   ]
  },
  {
   "cell_type": "code",
   "execution_count": 12,
   "metadata": {},
   "outputs": [],
   "source": [
    "A = sympy.Matrix([[1-Cy*(1-Ty)-Xy, -Ir, 0], [-Ly, -Lr, 1], [-Xy, -Fr, 0]])"
   ]
  },
  {
   "cell_type": "code",
   "execution_count": 13,
   "metadata": {},
   "outputs": [
    {
     "data": {
      "text/latex": [
       "$\\displaystyle Fr Ly - Lr Xy$"
      ],
      "text/plain": [
       "Fr*Ly - Lr*Xy"
      ]
     },
     "execution_count": 13,
     "metadata": {},
     "output_type": "execute_result"
    }
   ],
   "source": [
    "AM = sympy.Matrix([[1-Cy*(1-Ty)-Xy, -Ir, 1], [-Ly, -Lr, 0], [-Xy, -Fr, 0]])\n",
    "AM.det()"
   ]
  },
  {
   "cell_type": "code",
   "execution_count": 14,
   "metadata": {},
   "outputs": [
    {
     "data": {
      "text/latex": [
       "$\\displaystyle \\frac{Fr Ly - Lr Xy}{Fr \\left(- Cy \\left(1 - Ty\\right) - Xy + 1\\right) + Ir Xy}$"
      ],
      "text/plain": [
       "(Fr*Ly - Lr*Xy)/(Fr*(-Cy*(1 - Ty) - Xy + 1) + Ir*Xy)"
      ]
     },
     "execution_count": 14,
     "metadata": {},
     "output_type": "execute_result"
    }
   ],
   "source": [
    "AM.det()/A.det()"
   ]
  },
  {
   "cell_type": "markdown",
   "metadata": {},
   "source": [
    "### Item 2 $ \\frac{\\partial Y}{\\partial G} $"
   ]
  },
  {
   "cell_type": "code",
   "execution_count": 15,
   "metadata": {},
   "outputs": [
    {
     "data": {
      "text/latex": [
       "$\\displaystyle - Fr$"
      ],
      "text/plain": [
       "-Fr"
      ]
     },
     "execution_count": 15,
     "metadata": {},
     "output_type": "execute_result"
    }
   ],
   "source": [
    "AY = sympy.Matrix([[-1, -Ir, 0], [0, -Lr, 1], [0, -Fr, 0]])\n",
    "AY.det()"
   ]
  },
  {
   "cell_type": "code",
   "execution_count": 16,
   "metadata": {},
   "outputs": [
    {
     "data": {
      "text/latex": [
       "$\\displaystyle - \\frac{Fr}{Fr \\left(- Cy \\left(1 - Ty\\right) - Xy + 1\\right) + Ir Xy}$"
      ],
      "text/plain": [
       "-Fr/(Fr*(-Cy*(1 - Ty) - Xy + 1) + Ir*Xy)"
      ]
     },
     "execution_count": 16,
     "metadata": {},
     "output_type": "execute_result"
    }
   ],
   "source": [
    "AY.det()/A.det()"
   ]
  },
  {
   "cell_type": "markdown",
   "metadata": {},
   "source": [
    "### Item 3 $ \\frac{\\partial r}{\\partial G} $"
   ]
  },
  {
   "cell_type": "code",
   "execution_count": 17,
   "metadata": {},
   "outputs": [
    {
     "data": {
      "text/latex": [
       "$\\displaystyle - Xy$"
      ],
      "text/plain": [
       "-Xy"
      ]
     },
     "execution_count": 17,
     "metadata": {},
     "output_type": "execute_result"
    }
   ],
   "source": [
    "AR = sympy.Matrix([[1-Cy*(1-Ty)-Xy, 1, 0], [-Ly, 0, 1], [-Xy, 0, 0]])\n",
    "AR.det()"
   ]
  },
  {
   "cell_type": "code",
   "execution_count": 18,
   "metadata": {},
   "outputs": [
    {
     "data": {
      "text/latex": [
       "$\\displaystyle - \\frac{Xy}{Fr \\left(- Cy \\left(1 - Ty\\right) - Xy + 1\\right) + Ir Xy}$"
      ],
      "text/plain": [
       "-Xy/(Fr*(-Cy*(1 - Ty) - Xy + 1) + Ir*Xy)"
      ]
     },
     "execution_count": 18,
     "metadata": {},
     "output_type": "execute_result"
    }
   ],
   "source": [
    "AR.det()/A.det()"
   ]
  },
  {
   "cell_type": "markdown",
   "metadata": {},
   "source": [
    "### Item 4 \n",
    "\n"
   ]
  },
  {
   "cell_type": "markdown",
   "metadata": {},
   "source": [
    "## Ex 3"
   ]
  },
  {
   "cell_type": "code",
   "execution_count": 19,
   "metadata": {},
   "outputs": [],
   "source": [
    "AM = sympy.Matrix([[1-Cy*(1-Ty)-Xy, -Ir, 1], [-Ly, -Lr, 0], [-Xy, -Fr, 0]])"
   ]
  },
  {
   "cell_type": "markdown",
   "metadata": {},
   "source": [
    "### Item 0 $ \\frac{\\partial M}{\\partial G} $\n",
    "\n"
   ]
  },
  {
   "cell_type": "code",
   "execution_count": 20,
   "metadata": {},
   "outputs": [
    {
     "data": {
      "text/latex": [
       "$\\displaystyle - \\frac{Lr}{Ir}$"
      ],
      "text/plain": [
       "-Lr/Ir"
      ]
     },
     "execution_count": 20,
     "metadata": {},
     "output_type": "execute_result"
    }
   ],
   "source": [
    "(AM.det()/A.det()).subs({Fr:0})"
   ]
  },
  {
   "cell_type": "markdown",
   "metadata": {},
   "source": [
    "### Item 2 $ \\frac{\\partial Y}{\\partial G} $\n"
   ]
  },
  {
   "cell_type": "code",
   "execution_count": 21,
   "metadata": {},
   "outputs": [
    {
     "data": {
      "text/latex": [
       "$\\displaystyle 0$"
      ],
      "text/plain": [
       "0"
      ]
     },
     "execution_count": 21,
     "metadata": {},
     "output_type": "execute_result"
    }
   ],
   "source": [
    "(AY.det()/A.det()).subs({Fr:0})"
   ]
  },
  {
   "cell_type": "markdown",
   "metadata": {},
   "source": [
    "### Item 3 $ \\frac{\\partial r}{\\partial G} $\n"
   ]
  },
  {
   "cell_type": "code",
   "execution_count": 22,
   "metadata": {},
   "outputs": [
    {
     "data": {
      "text/latex": [
       "$\\displaystyle - \\frac{1}{Ir}$"
      ],
      "text/plain": [
       "-1/Ir"
      ]
     },
     "execution_count": 22,
     "metadata": {},
     "output_type": "execute_result"
    }
   ],
   "source": [
    "(AR.det()/A.det()).subs({Fr:0})"
   ]
  },
  {
   "cell_type": "markdown",
   "metadata": {},
   "source": [
    "### Item 4\n"
   ]
  },
  {
   "cell_type": "code",
   "execution_count": null,
   "metadata": {},
   "outputs": [],
   "source": []
  },
  {
   "cell_type": "markdown",
   "metadata": {},
   "source": [
    "## Ex 4 - Cambio Fixo (E=cte) e Mob Perf (Fr -> inf)"
   ]
  },
  {
   "cell_type": "markdown",
   "metadata": {},
   "source": [
    "### Item 0 $ \\frac{\\partial M}{\\partial G} $\n",
    "\n"
   ]
  },
  {
   "cell_type": "code",
   "execution_count": 23,
   "metadata": {},
   "outputs": [
    {
     "data": {
      "text/latex": [
       "$\\displaystyle \\frac{Fr Ly - Lr Xy}{Fr \\left(- Cy \\left(1 - Ty\\right) - Xy + 1\\right) + Ir Xy}$"
      ],
      "text/plain": [
       "(Fr*Ly - Lr*Xy)/(Fr*(-Cy*(1 - Ty) - Xy + 1) + Ir*Xy)"
      ]
     },
     "execution_count": 23,
     "metadata": {},
     "output_type": "execute_result"
    }
   ],
   "source": [
    "AM.det()/A.det()"
   ]
  },
  {
   "cell_type": "code",
   "execution_count": 24,
   "metadata": {},
   "outputs": [
    {
     "data": {
      "text/latex": [
       "$\\displaystyle - \\frac{Ly + \\frac{Lr Xy}{Fr}}{- Cy \\left(1 - Ty\\right) - Xy + 1 + \\frac{Ir Xy}{Fr}}$"
      ],
      "text/plain": [
       "-(Ly + Lr*Xy/Fr)/(-Cy*(1 - Ty) - Xy + 1 + Ir*Xy/Fr)"
      ]
     },
     "execution_count": 24,
     "metadata": {},
     "output_type": "execute_result"
    }
   ],
   "source": [
    "expressao = (-Fr*(Ly+((Lr*Xy)/Fr)))/(Fr*(-Cy*(1-Ty)-Xy+1+Ir*Xy/Fr))\n",
    "expressao"
   ]
  },
  {
   "cell_type": "code",
   "execution_count": 25,
   "metadata": {},
   "outputs": [
    {
     "data": {
      "text/latex": [
       "$\\displaystyle - \\frac{Ly}{- Cy \\left(1 - Ty\\right) - Xy + 1}$"
      ],
      "text/plain": [
       "-Ly/(-Cy*(1 - Ty) - Xy + 1)"
      ]
     },
     "execution_count": 25,
     "metadata": {},
     "output_type": "execute_result"
    }
   ],
   "source": [
    "expressao.subs({Fr:sympy.oo})"
   ]
  },
  {
   "cell_type": "markdown",
   "metadata": {},
   "source": [
    "### Item 2 $ \\frac{\\partial Y}{\\partial G} $\n"
   ]
  },
  {
   "cell_type": "code",
   "execution_count": 26,
   "metadata": {},
   "outputs": [
    {
     "data": {
      "text/latex": [
       "$\\displaystyle - \\frac{Fr}{Fr \\left(- Cy \\left(1 - Ty\\right) - Xy + 1\\right) + Ir Xy}$"
      ],
      "text/plain": [
       "-Fr/(Fr*(-Cy*(1 - Ty) - Xy + 1) + Ir*Xy)"
      ]
     },
     "execution_count": 26,
     "metadata": {},
     "output_type": "execute_result"
    }
   ],
   "source": [
    "AY.det()/A.det()"
   ]
  },
  {
   "cell_type": "code",
   "execution_count": 27,
   "metadata": {},
   "outputs": [
    {
     "data": {
      "text/latex": [
       "$\\displaystyle - \\frac{1}{- Cy \\left(1 - Ty\\right) - Xy + 1 + \\frac{Ir Xy}{Fr}}$"
      ],
      "text/plain": [
       "-1/(-Cy*(1 - Ty) - Xy + 1 + Ir*Xy/Fr)"
      ]
     },
     "execution_count": 27,
     "metadata": {},
     "output_type": "execute_result"
    }
   ],
   "source": [
    "expressao = (-Fr)/(Fr*(-Cy*(1-Ty)-Xy+1+Ir*Xy/Fr))\n",
    "expressao"
   ]
  },
  {
   "cell_type": "code",
   "execution_count": 28,
   "metadata": {},
   "outputs": [
    {
     "data": {
      "text/latex": [
       "$\\displaystyle - \\frac{1}{- Cy \\left(1 - Ty\\right) - Xy + 1}$"
      ],
      "text/plain": [
       "-1/(-Cy*(1 - Ty) - Xy + 1)"
      ]
     },
     "execution_count": 28,
     "metadata": {},
     "output_type": "execute_result"
    }
   ],
   "source": [
    "expressao.subs({Fr:sympy.oo})"
   ]
  },
  {
   "cell_type": "markdown",
   "metadata": {},
   "source": [
    "### Item 3 $ \\frac{\\partial r}{\\partial G} $"
   ]
  },
  {
   "cell_type": "code",
   "execution_count": 29,
   "metadata": {},
   "outputs": [
    {
     "data": {
      "text/latex": [
       "$\\displaystyle - \\frac{Xy}{Fr \\left(- Cy \\left(1 - Ty\\right) - Xy + 1\\right) + Ir Xy}$"
      ],
      "text/plain": [
       "-Xy/(Fr*(-Cy*(1 - Ty) - Xy + 1) + Ir*Xy)"
      ]
     },
     "execution_count": 29,
     "metadata": {},
     "output_type": "execute_result"
    }
   ],
   "source": [
    "AR.det()/A.det()"
   ]
  },
  {
   "cell_type": "code",
   "execution_count": 30,
   "metadata": {},
   "outputs": [
    {
     "data": {
      "text/latex": [
       "$\\displaystyle \\frac{Xy}{Fr \\left(- Cy \\left(1 - Ty\\right) - Xy + 1 + \\frac{Ir Xy}{Fr}\\right)}$"
      ],
      "text/plain": [
       "Xy/(Fr*(-Cy*(1 - Ty) - Xy + 1 + Ir*Xy/Fr))"
      ]
     },
     "execution_count": 30,
     "metadata": {},
     "output_type": "execute_result"
    }
   ],
   "source": [
    "expressao = Xy/(Fr*(-Cy*(1-Ty)-Xy+1+Ir*Xy/Fr))\n",
    "expressao"
   ]
  },
  {
   "cell_type": "code",
   "execution_count": 31,
   "metadata": {},
   "outputs": [
    {
     "data": {
      "text/latex": [
       "$\\displaystyle 0$"
      ],
      "text/plain": [
       "0"
      ]
     },
     "execution_count": 31,
     "metadata": {},
     "output_type": "execute_result"
    }
   ],
   "source": [
    "expressao.subs({Fr:sympy.oo})"
   ]
  },
  {
   "cell_type": "markdown",
   "metadata": {},
   "source": [
    "## Gráficos"
   ]
  },
  {
   "cell_type": "code",
   "execution_count": 32,
   "metadata": {},
   "outputs": [],
   "source": [
    "\n",
    "Y, a, b, d, t, Io, g1, r, Go , M, P, k , l, EXo, h, E, IMo, m1, fo, f1, ro, B= sympy.symbols('Y a b d t Io g1 r Go M P k l EXo h E IMo m1 f0o f1 ro B')"
   ]
  },
  {
   "cell_type": "code",
   "execution_count": 33,
   "metadata": {},
   "outputs": [],
   "source": [
    "F1 = Y - a - b*(Y+d-t*Y)- Io + g1*r - Go\n",
    "F2 = M/P - k*Y + l*r\n",
    "\n",
    "X = EXo + h*E - IMo - m1*Y\n",
    "F = -fo + f1*(r-ro)\n",
    "F3 = B - X - F"
   ]
  },
  {
   "cell_type": "code",
   "execution_count": 38,
   "metadata": {},
   "outputs": [],
   "source": [
    "a = 100\n",
    "b = 0.8\n",
    "d = 0\n",
    "t = 0.2\n",
    "Io = 100\n",
    "g1 = 0.5\n",
    "Go = 100"
   ]
  },
  {
   "cell_type": "code",
   "execution_count": 39,
   "metadata": {},
   "outputs": [],
   "source": [
    "M = 100\n",
    "P = 1\n",
    "k = 0.5\n",
    "l = 0.5"
   ]
  },
  {
   "cell_type": "code",
   "execution_count": 40,
   "metadata": {},
   "outputs": [
    {
     "data": {
      "image/png": "[encoded data removed]",
      "text/plain": [
       "<Figure size 432x288 with 1 Axes>"
      ]
     },
     "metadata": {
      "needs_background": "light"
     },
     "output_type": "display_data"
    },
    {
     "data": {
      "text/plain": [
       "<sympy.plotting.plot.Plot at 0x2097818b748>"
      ]
     },
     "execution_count": 40,
     "metadata": {},
     "output_type": "execute_result"
    }
   ],
   "source": [
    "EXo = 1000\n",
    "IMo = 1000\n",
    "m1=0.5\n",
    "fo = 1000\n",
    "f1 = 0.5\n",
    "ro = 1000\n",
    "h = 10\n",
    "E = 100\n",
    "B = 0\n",
    "\n",
    "sympy.plot_implicit(B-(-fo + f1*(r-ro)-EXo + h*E - IMo - m1*Y) , x_var=(r,0,10000), y_var=(Y, 0,10000))"
   ]
  },
  {
   "cell_type": "code",
   "execution_count": 41,
   "metadata": {},
   "outputs": [
    {
     "data": {
      "image/png": "[encoded data removed]",
      "text/plain": [
       "<Figure size 432x288 with 1 Axes>"
      ]
     },
     "metadata": {
      "needs_background": "light"
     },
     "output_type": "display_data"
    },
    {
     "data": {
      "image/png": "[encoded data removed]",
      "text/plain": [
       "<Figure size 432x288 with 1 Axes>"
      ]
     },
     "metadata": {
      "needs_background": "light"
     },
     "output_type": "display_data"
    },
    {
     "data": {
      "image/png": "[encoded data removed]",
      "text/plain": [
       "<Figure size 432x288 with 1 Axes>"
      ]
     },
     "metadata": {
      "needs_background": "light"
     },
     "output_type": "display_data"
    }
   ],
   "source": [
    "curva_1 = sympy.plot_implicit(Y - a - b*(Y+d-t*Y)- Io + g1*r - Go, x_var=(r, 0, 1000), y_var=(Y,0,1000))\n",
    "curva_2 = sympy.plot_implicit(M/P - k*Y + l*r, x_var=(r, 0, 1000), y_var=(Y,0,1000))\n",
    "curva_1.extend(curva_2)\n",
    "curva_1.show()"
   ]
  },
  {
   "cell_type": "code",
   "execution_count": null,
   "metadata": {},
   "outputs": [],
   "source": []
  }
 ],
 "metadata": {
  "kernelspec": {
   "display_name": "Python 3",
   "language": "python",
   "name": "python3"
  },
  "language_info": {
   "codemirror_mode": {
    "name": "ipython",
    "version": 3
   },
   "file_extension": ".py",
   "mimetype": "text/x-python",
   "name": "python",
   "nbconvert_exporter": "python",
   "pygments_lexer": "ipython3",
   "version": "3.7.3"
  }
 },
 "nbformat": 4,
 "nbformat_minor": 2
}
