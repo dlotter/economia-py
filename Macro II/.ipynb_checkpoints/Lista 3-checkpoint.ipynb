{
 "cells": [
  {
   "cell_type": "markdown",
   "metadata": {},
   "source": [
    "# Lista 3 Macro"
   ]
  },
  {
   "cell_type": "code",
   "execution_count": 1,
   "metadata": {},
   "outputs": [],
   "source": [
    "import sympy as sy"
   ]
  },
  {
   "cell_type": "markdown",
   "metadata": {},
   "source": [
    "## Ex 1 - Cambio Flutuante (E varia) + Mob Imperfeita (0<Fr<+oo)"
   ]
  },
  {
   "cell_type": "markdown",
   "metadata": {},
   "source": [
    "### Item 1.1 $ \\frac{\\partial E}{\\partial G} $"
   ]
  },
  {
   "cell_type": "code",
   "execution_count": 29,
   "metadata": {},
   "outputs": [
    {
     "data": {
      "text/latex": [
       "$\\displaystyle \\left[\\begin{matrix}- Cy \\left(1 - Ty\\right) - Xy + 1 & - Ir & - Xe\\\\- Ly & - Lr & 0\\\\- Xy & - Fr & - Xe\\end{matrix}\\right]$"
      ],
      "text/plain": [
       "Matrix([\n",
       "[-Cy*(1 - Ty) - Xy + 1, -Ir, -Xe],\n",
       "[                  -Ly, -Lr,   0],\n",
       "[                  -Xy, -Fr, -Xe]])"
      ]
     },
     "execution_count": 29,
     "metadata": {},
     "output_type": "execute_result"
    }
   ],
   "source": [
    "# Modelo incial\n",
    "\n",
    "Cy, Ty, Xy, Ir, Ly, Lr, Fr, Xe= sy.symbols('Cy Ty Xy Ir Ly Lr Fr Xe')\n",
    "\n",
    "A = sy.Matrix([[1-Cy*(1-Ty)-Xy, -Ir, -Xe], [-Ly, -Lr, 0], [-Xy, -Fr, -Xe]])\n",
    "A"
   ]
  },
  {
   "cell_type": "code",
   "execution_count": 33,
   "metadata": {},
   "outputs": [
    {
     "name": "stdout",
     "output_type": "stream",
     "text": [
      "True\n"
     ]
    },
    {
     "data": {
      "text/latex": [
       "$\\displaystyle - Fr Ly Xe + Ir Ly Xe + Lr Xe Xy + Lr Xe \\left(- Cy \\left(1 - Ty\\right) - Xy + 1\\right)$"
      ],
      "text/plain": [
       "-Fr*Ly*Xe + Ir*Ly*Xe + Lr*Xe*Xy + Lr*Xe*(-Cy*(1 - Ty) - Xy + 1)"
      ]
     },
     "execution_count": 33,
     "metadata": {},
     "output_type": "execute_result"
    }
   ],
   "source": [
    "print(A.det().subs({Cy:0.5, Ty:0.5, Xy:0.5, Ir:0.5, Ly:0.5, Lr:0.5, Fr:0.5, Xe:0.5}).is_positive)\n",
    "A.det()"
   ]
  },
  {
   "cell_type": "code",
   "execution_count": 23,
   "metadata": {},
   "outputs": [
    {
     "data": {
      "text/latex": [
       "$\\displaystyle \\left[\\begin{matrix}- Cy \\left(1 - Ty\\right) - Xy + 1 & - Ir & 1\\\\- Ly & - Lr & 0\\\\- Xy & - Fr & 0\\end{matrix}\\right]$"
      ],
      "text/plain": [
       "Matrix([\n",
       "[-Cy*(1 - Ty) - Xy + 1, -Ir, 1],\n",
       "[                  -Ly, -Lr, 0],\n",
       "[                  -Xy, -Fr, 0]])"
      ]
     },
     "execution_count": 23,
     "metadata": {},
     "output_type": "execute_result"
    }
   ],
   "source": [
    "AE = A.copy()\n",
    "AE[:,2] = [1, 0, 0]\n",
    "AE"
   ]
  },
  {
   "cell_type": "code",
   "execution_count": 36,
   "metadata": {},
   "outputs": [
    {
     "name": "stdout",
     "output_type": "stream",
     "text": [
      "False\n"
     ]
    },
    {
     "data": {
      "text/latex": [
       "$\\displaystyle \\frac{Fr Ly - Lr Xy}{- Fr Ly Xe + Ir Ly Xe + Lr Xe Xy + Lr Xe \\left(- Cy \\left(1 - Ty\\right) - Xy + 1\\right)}$"
      ],
      "text/plain": [
       "(Fr*Ly - Lr*Xy)/(-Fr*Ly*Xe + Ir*Ly*Xe + Lr*Xe*Xy + Lr*Xe*(-Cy*(1 - Ty) - Xy + 1))"
      ]
     },
     "execution_count": 36,
     "metadata": {},
     "output_type": "execute_result"
    }
   ],
   "source": [
    "print((AE.det()/A.det()).subs({Cy:0.5, Ty:0.5, Xy:0.5, Ir:0.5, Ly:0.5, Lr:0.5, Fr:0.5, Xe:0.5}).is_positive)\n",
    "AE.det()/A.det()"
   ]
  },
  {
   "cell_type": "code",
   "execution_count": null,
   "metadata": {},
   "outputs": [],
   "source": []
  },
  {
   "cell_type": "code",
   "execution_count": null,
   "metadata": {},
   "outputs": [],
   "source": []
  }
 ],
 "metadata": {
  "kernelspec": {
   "display_name": "Python 3",
   "language": "python",
   "name": "python3"
  },
  "language_info": {
   "codemirror_mode": {
    "name": "ipython",
    "version": 3
   },
   "file_extension": ".py",
   "mimetype": "text/x-python",
   "name": "python",
   "nbconvert_exporter": "python",
   "pygments_lexer": "ipython3",
   "version": "3.7.3"
  }
 },
 "nbformat": 4,
 "nbformat_minor": 2
}
